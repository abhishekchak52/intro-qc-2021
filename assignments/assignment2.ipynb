{
 "cells": [
  {
   "cell_type": "markdown",
   "metadata": {},
   "source": [
    "# Assignment 2\n",
    "Welcome to the second programming assigment for the course. This assignments will help to familiarise you with entangled states and Boolean function oracles while revisiting the topics discussed in this week's lectures. \n",
    "\n",
    "### Submission Guidelines\n",
    "For final submission, and to ensure that you have no errors in your solution, please use the 'Restart and Run All' option availble in the Kernel menu at the top of the page. \n",
    "To submit your solution, run the completed notebook and attach the solved notebook (with results visible) as a file on the course website. "
   ]
  },
  {
   "cell_type": "code",
   "execution_count": null,
   "metadata": {},
   "outputs": [],
   "source": [
    "%matplotlib inline\n",
    "import numpy as np\n",
    "import matplotlib.pyplot as plt\n",
    "# Importing standard Qiskit libraries and configuring account\n",
    "import qiskit\n",
    "from qiskit import QuantumCircuit, execute\n",
    "from qiskit.providers.aer import QasmSimulator, StatevectorSimulator\n",
    "from qiskit.visualization import *\n",
    "from qiskit.quantum_info import *\n",
    "success_msg = 'Your answer is correct.'\n",
    "fail_msg = 'Your answer is not correct. Please try again.'\n",
    "basis_gates = ['id', 'x', 'y', 'z', 's', 't', 'sdg', 'tdg', 'h', 'p', 'sx' ,'r', 'rx', 'ry', 'rz', 'u', 'u1', 'u2', 'u3', 'cx', 'ccx', 'barrier', 'measure', 'snapshot']"
   ]
  },
  {
   "cell_type": "markdown",
   "metadata": {},
   "source": [
    "## Entanglement\n",
    "Multi-partite entangled states are also possible. A very popular example of such a state is the  GHZ state, named after the authors who first proposed it's interesting properties. This belongs to a class of multi-qubit states called _cat states_, after Schrodinger's cat. You will create this state in the first problem.\n",
    "## **Problem 1**\n",
    "Prepare the GHZ state $|\\text{GHZ}\\rangle = \\frac{1}{\\sqrt{2}}(|000\\rangle + |111\\rangle)$ in a quantum circuit **using only the basic single-qubit gates and CNOT**. Below we have provided you with some code to create a quantum circuit. Remember that a qubit in a quantum circuit always begins in the $|0\\rangle$ state. Add appropriate gates. A standard basis measurement has already been added for you."
   ]
  },
  {
   "cell_type": "code",
   "execution_count": null,
   "metadata": {},
   "outputs": [],
   "source": [
    "qc1 = QuantumCircuit(3) \n",
    "# Insert gates below to create the state \n",
    "\n",
    "# Do not change below this line. You do not need to add an additional measurement. \n",
    "qc1.measure_all()\n",
    "qc1.draw('mpl')"
   ]
  },
  {
   "cell_type": "markdown",
   "metadata": {},
   "source": [
    "<div class=\"alert alert-block alert-info\"><b>Instructions:</b> Once your circuit is ready, run the cell below to check your answer. </div>"
   ]
  },
  {
   "cell_type": "code",
   "execution_count": null,
   "metadata": {},
   "outputs": [],
   "source": [
    "try:\n",
    "    assert list(qc1.count_ops()) != [], \"Circuit cannot be empty\"\n",
    "    assert set(qc1.count_ops().keys()).difference(basis_gates) == set(), f\"Only the following basic gates are allowed: {basis_gates}\"\n",
    "    assert all([type(gate[0]) == qiskit.circuit.measure.Measure for gate in qc1.data[-3:len(qc1.data)]]), \"Measurement must be the last operation in a circuit.\"\n",
    "    sv_check = Statevector.from_instruction(qc1.remove_final_measurements(inplace=False)).equiv((Statevector.from_label('000')+Statevector.from_label('111'))/np.sqrt(2))\n",
    "    assert sv_check, \"You did not prepare the correct state.\"\n",
    "    \n",
    "    job = execute(qc1, backend=QasmSimulator(), shots=1024, seed_simulator=0)\n",
    "    counts = job.result().get_counts()\n",
    "    print(success_msg if (sv_check) else fail_msg)\n",
    "except AssertionError as e:\n",
    "    print(f'Your code has an error:  {e.args[0]}')\n",
    "except Exception as e:\n",
    "    print(f'This error occured: {e.args[0]}')\n",
    "plot_histogram(counts)"
   ]
  },
  {
   "cell_type": "markdown",
   "metadata": {},
   "source": [
    "## A quantum oracle implementation of the classical OR operation\n",
    "We've already seen that the Toffoli gate implements the quantum version of the classical AND operation. The first part of this exercise will require you to construct such a quantum implementation for the OR operation.\n",
    "The logical OR operation takes two Boolean inputs and returns 1 as the result if either or both of the inputs are 1. It is often denoted using the $\\vee$ symbol (it is also called the disjunction operation). The truth table for the classical OR operation is given below:\n",
    "\n",
    "| $x$ \t| $y$ \t| $x\\vee y$ \t|\n",
    "|-----\t|-----\t|-----------\t|\n",
    "| 0   \t| 0   \t| 0         \t|\n",
    "| 0   \t| 1   \t| 1         \t|\n",
    "| 1   \t| 0   \t| 1         \t|\n",
    "| 1   \t| 1   \t| 1         \t|\n",
    "\n",
    "### De Morgan's laws\n",
    "Finding a gate that is the direct quantum analogue of the OR operation might prove to be difficult. Luckily, there are a set of two relation in Boolean algebra that can provide a helpful workaround. \n",
    "$$\\overline{x\\vee y} = \\overline{x} \\wedge \\overline{y}$$\n",
    "This is read as _not ($x$ or $y$) = not $x$ and not $y$_\n",
    "$$\\overline{x\\wedge y} = \\overline{x} \\vee \\overline{y}$$\n",
    "This is read as _not ($x$ or $y$) = not $x$ and not $y$_\n",
    "## **Problem 2**\n",
    "1. Using the expressions for De Morgan's laws above, construct a Boolean formula for $x \\vee y$ consisting only of the logical AND and NOT operations. \n",
    "2. We have provided the `QuantumCircuit()` for a quantum bit oracle to implement the OR operation. Apply the appropriate gates to this circuit based on the expression calculated in Step 1. Do NOT add a measurement\n",
    "\n",
    "<div class=\"alert alert-block alert-warning\"><b>Warning: </b>Please be careful to ensure that the circuit below matches the oracle structure i.e. the input qubit states are not altered after the operation of the oracle.</div>"
   ]
  },
  {
   "cell_type": "code",
   "execution_count": null,
   "metadata": {},
   "outputs": [],
   "source": [
    "or_oracle = QuantumCircuit(3)\n",
    "# Insert gates below\n",
    "\n",
    "# Do not change below this line\n",
    "or_oracle.draw(output='mpl')"
   ]
  },
  {
   "cell_type": "markdown",
   "metadata": {},
   "source": [
    "<div class=\"alert alert-block alert-info\"><b>Instructions:</b> Once your circuit is ready, run the cell below to check your answer. </div>"
   ]
  },
  {
   "cell_type": "code",
   "execution_count": null,
   "metadata": {},
   "outputs": [],
   "source": [
    "or_tt = ['000', '011', '101', '111']\n",
    "def check_or_oracle(tt_row):\n",
    "    check_qc = QuantumCircuit(3)\n",
    "    for i in range(2):\n",
    "        if (tt_row[i] == '1'):\n",
    "            check_qc.x(i)\n",
    "    check_qc.extend(or_oracle)\n",
    "    check_qc.measure_all()\n",
    "    return (execute(check_qc.reverse_bits(),backend=QasmSimulator(), shots=1).result().get_counts().most_frequent() == tt_row)\n",
    "try:\n",
    "    assert list(or_oracle.count_ops()) != [], f\"Circuit cannot be empty\"\n",
    "    assert 'measure' not in or_oracle.count_ops(), f\"Please remove measurements\"\n",
    "    assert set(or_oracle.count_ops().keys()).difference(basis_gates) == set(), f\"Only the following basic gates are allowed: {basis_gates}\"\n",
    "    for tt_row in or_tt:     \n",
    "        assert check_or_oracle(tt_row), f\" Input {tt_row[0:2]}: Your encoding is not correct\"\n",
    "    print(\"Your oracle construction passed all checks\")\n",
    "except AssertionError as e:\n",
    "    print(f'Your code has an error:  {e.args[0]}')\n",
    "    \n",
    "except Exception as e:\n",
    "    print(f'This error occured: {e.args[0]}')"
   ]
  }
 ],
 "metadata": {
  "kernelspec": {
   "display_name": "Python 3",
   "language": "python",
   "name": "python3"
  },
  "language_info": {
   "codemirror_mode": {
    "name": "ipython",
    "version": 3
   },
   "file_extension": ".py",
   "mimetype": "text/x-python",
   "name": "python",
   "nbconvert_exporter": "python",
   "pygments_lexer": "ipython3",
   "version": "3.8.5"
  }
 },
 "nbformat": 4,
 "nbformat_minor": 4
}
